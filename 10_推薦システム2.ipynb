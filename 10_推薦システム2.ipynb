{
 "cells": [
  {
   "cell_type": "code",
   "execution_count": 5,
   "metadata": {
    "collapsed": true
   },
   "outputs": [],
   "source": [
    "%matplotlib inline\n",
    "import matplotlib.pyplot as plt\n",
    "import numpy"
   ]
  },
  {
   "cell_type": "markdown",
   "metadata": {},
   "source": [
    "# 第２章 推薦システムをつくる\n",
    "\n",
    "## 協調フィルタリング\n",
    "\n",
    "### ユーザーベース協調フィルタリングの実装\n",
    "\n"
   ]
  },
  {
   "cell_type": "markdown",
   "metadata": {},
   "source": [
    "過去のユーザーがどのアイテムにどのような評価をしたかというデータを用いる手法。\n",
    "\n",
    "データ上で、ユーザーがN人、アイテムがM個存在するとき\n",
    "\n",
    "\\begin{align}\n",
    "ユーザー:u_1, u_2, \\cdots u_N \\\\\n",
    "アイテム:v_1, v_2, \\cdots v_M \\\\\n",
    "ユーザーu_iがアイテムv_jにつけた評価:r_{i,j} \\\\\n",
    "評価しなかった場合:r_{i,j} = 0\n",
    "\\end{align}\n",
    "\n",
    "と表現するようにします。（何故か右よりになる・・・？あと最後にでる縦線なに？）\n"
   ]
  },
  {
   "cell_type": "markdown",
   "metadata": {},
   "source": [
    "このデータから「あなたと同じ商品を買っている人はこんな商品も買っています」を実現するためにはユーザー同士が「どれくらい同じ商品を買っているか」を表す類似度を求める必要があります。\n",
    "\n",
    "こんな感じでユーザー同士の近さからアイテムを推薦する協調フィルタリングを**ユーザーベース協調フィルタリング**と呼びます。\n"
   ]
  },
  {
   "cell_type": "markdown",
   "metadata": {},
   "source": [
    "$u_i$と$u_j$の類似度を$sim_{i,j}$とします。このとき評価しなかった場合$r_{i,j}$に類似したユーザーから求める評価値$\\hat{r_{i,k}}$は次のようにして求めます。"
   ]
  },
  {
   "cell_type": "markdown",
   "metadata": {},
   "source": [
    "\\begin{align}\n",
    "\\hat{r_{i,k}} = \\sum^N_{i=0}sim_{i,j} \\cdot r_{j,k}\n",
    "\\end{align}\n",
    "\n",
    "\n",
    "なるほど。わからん（｀・ω・）=3\n"
   ]
  },
  {
   "cell_type": "markdown",
   "metadata": {},
   "source": [
    "### 学校で赤点とってた俺に向けての数式の内訳（？）\n",
    "\n",
    "#### $\\sum^N_{i=0}$について\n",
    "$\\sum^N_{i=0}x_n$は$x_1 + x_2 + \\cdots + x_N$と同じ。下段（i=0）から上段（N)まで全部足せばいい（総和）\n",
    "  \n",
    "なので、$i$が増える度に、$sim_{i,j} \\cdot r_{j,k}$に当て込めて計算していけばおｋ（$j$と$k$が何になるのかは知らね）  \n",
    "  \n",
    "#### $x_i$ 、 $x_{i,j}$について\n",
    "$a = (10, 9, 8, 7, 6)$という数値があった場合、配列の要素を総称的に$a_1 = 10$みたいな表現ができる  \n",
    "$a_1 = 10, a_2 = 9, a_3 = 8\\dots a_5 = 6$\n",
    "  \n",
    "２つの値がカンマ区切りってじゃーなんなの？  \n",
    "２次元らしい。numpyで説明"
   ]
  },
  {
   "cell_type": "code",
   "execution_count": 6,
   "metadata": {
    "collapsed": false
   },
   "outputs": [
    {
     "data": {
      "text/plain": [
       "array([[ 1,  2,  3,  4],\n",
       "       [ 5,  6,  7,  8],\n",
       "       [ 9, 10, 11, 12],\n",
       "       [13, 14, 15, 16]])"
      ]
     },
     "execution_count": 6,
     "metadata": {},
     "output_type": "execute_result"
    }
   ],
   "source": [
    "# 4 x 4の行列\n",
    "a = numpy.array([[1, 2, 3, 4],[5,6,7,8],[9,10,11,12],[13,14,15,16]])\n",
    "a"
   ]
  },
  {
   "cell_type": "markdown",
   "metadata": {},
   "source": [
    "$a_{1,1} = 1,a_{1,2} = 2, a_{1,3} = 3, a_{1,4} = 4, a_{2,1} = 5 \\dots a_{4,4} = 16$ こんな感じ"
   ]
  },
  {
   "cell_type": "markdown",
   "metadata": {},
   "source": [
    "#### $\\cdot$について\n",
    "中点（$ \\cdot $）は乗算です。\n",
    "\n",
    "また今回あんまり関係ないが、最近の俺の悩みだった$\\prod_{i=0}^n x_i$<=**厳島神社**みたいな記号は総乗の意味らしい。\n",
    "\n",
    "#### $\\hat{r_{i,k}}$について\n",
    "\n",
    "母数の推定量（^）らしい。ようわからん"
   ]
  },
  {
   "cell_type": "markdown",
   "metadata": {},
   "source": [
    "#### $\\hat{r_{i,k}} = \\sum^N_{i=0}sim_{i,j} \\cdot r_{j,k}$の式のまとめ\n",
    "\n",
    "なんか値をあてこめていって、総和したら推定量がわかりますお！（^ω^\n",
    "\n",
    "**話を戻します。**\n",
    "この値が高いほど「あなたと同じ商品を買っている人はこんな商品も買っています」に表示するアイテムとなります。（本当かよ。。。）\n",
    "\n",
    "この式の意味するところは、自分と商品の購買傾向が似ている人がその商品にどのような評価をしているかということであり、たくさん同じ商品を買っている人が高い評価をしているほど、大きな値になります。\n",
    "\n",
    "ではこの$sim_{i,j}$はどのように求めているのでしょうか。ここではそれぞれのユーザー$u_i,u_j$をベクトルの空間上の点として表現し、２点間の指標を類似度とします。これは協調フィルタリングだけでなくデータマイニング技術全般に用いられる方法です。例えば文章韓の類似度を測る場合には文章に出現する単語をそれぞれ次元として文章をベクトル表現します。\n",
    "\n",
    "ユーザーをベクトル表現する場合にはアイテムを次元評価値を各次元の値として次のように表現します。\n",
    "\n",
    "\\begin{align}\n",
    "\\vec{u_i} = (r_{i,1},r_{i,2},\\dots,r_{i,M})^T\n",
    "\\end{align}"
   ]
  },
  {
   "cell_type": "markdown",
   "metadata": {},
   "source": [
    "ユーザーがアイテムをつけた評価値を行列して次のように表せる\n",
    "\n",
    "\\begin{align}\n",
    "[\\vec{u_1},\\dots,\\vec{u_N}]\n",
    "\\end{align}\n",
    "\n",
    "このような行列をユーザーアイテム行列と呼ぶ。"
   ]
  },
  {
   "cell_type": "markdown",
   "metadata": {},
   "source": [
    "このベクトルから類似度を求める。代表的な２つだけ説明する。\n",
    "\n",
    "##### コサイン距離\n",
    "\n",
    "\\begin{align}\n",
    "cosine(\\vec{u_i},\\vec{u_j}) = \\dfrac{\\vec{u_i}\\cdot\\vec{u_j}}{|\\vec{u_i}||\\vec{u_j}|}\n",
    "\\end{align}\n",
    "\n",
    "※$|u_i|$は絶対値の記号\n",
    "\n",
    "ベクトル間のコサイン値を距離として扱う手法であり、ベクトル空間上の角度のコサイン値に対応します。コサイン値のため取り得る値は0.0〜1.0になる。\n",
    "\n",
    "距離が近くなるほど値は小さくなるので$1.0 - consine$として求めます。\n",
    "\n",
    "##### ジャカード係数\n",
    "\n",
    "\\begin{align}\n",
    "Jaccard(A,B) = \\dfrac{A \\cap B}{A \\cup B}\n",
    "\\end{align}\n",
    "\n",
    "なるほど（｀・ω・）（わからんぞ！）\n",
    "\n",
    "ベクトルの各要素が0、1の２値で構成される場合、それぞれのベクトルは集合として考えることができます。推薦システムにおいては商品を購入したか否かを0、1で表すような場合に用いることができる。\n",
    "\n",
    "それぞれをベクトル演算に適用すると以下になる\n",
    "\n",
    "\\begin{align}\n",
    "A = \\vec{u_i}\\\\\\\n",
    "B = \\vec{u_j}\\\\\\\n",
    "Jaccard(\\vec{u_i},\\vec{u_j}) = \\dfrac{\\vec{u_i} \\cdot \\vec{u_j}}{\\vec{|u_i|} + \\vec{|u_j|} - \\vec{u_i} \\cdot \\vec{u_j}}\n",
    "\\end{align}\n",
    "\n",
    "（そろそろ例がほしいな！）\n",
    "\n",
    "協調フィルタリングの流れとして\n",
    "\n",
    "1. ユーザーの評価データをベクトル表現\n",
    "2. ユーザー間の類似度を求める\n",
    "3. それを元にユーザーが評価していないアイテムの評価値を決定する"
   ]
  },
  {
   "cell_type": "markdown",
   "metadata": {},
   "source": [
    "### アイテムベース協調フィルタリングの実装\n",
    "\n",
    "「この商品を買った人はこんな商品も買っています」を実現する方法について。ユーザーベース協調フィルタリングに対し、**アイテムベース協調フィルタリング**と呼ばれる手法。\n",
    "\n",
    "ベクトル表現にしたユーザーの評価データからアイテム同士の類似度を求めて、類似度の高いアイテムを推薦します。\n",
    "\n",
    "ユーザー同士の類似度を表現するために、ユーザーをベクトル表現したように、アイテム同士の類似度を表現するためにアイテムをベクトル表現します。\n",
    "\n",
    "\\begin{align}\n",
    "\\vec{v_i} = (r_{1,i},r_{2,i},\\cdots,r_{N,i})^T\n",
    "\\end{align}\n",
    "\n",
    "例えば、ECサイトがある場合、あるアイテムのページに訪問した際に、そのアイテムと類似どの高いアイテムが「この商品を買った人はこんな商品も買っています」として表示されるようになる。\n",
    "\n",
    "アマゾンでITの本ばっかり買っているとITの本ばかりになる。\n",
    "\n",
    "<img src=\"./スクリーンショット 2016-03-06 18.00.56.png\">\n",
    "\n",
    "\n",
    "# **（^ω^；（あれ？！）**"
   ]
  },
  {
   "cell_type": "markdown",
   "metadata": {},
   "source": [
    "サンプルのコードがあるので、それを読みながら説明する\n",
    "\n"
   ]
  },
  {
   "cell_type": "code",
   "execution_count": 7,
   "metadata": {
    "collapsed": false
   },
   "outputs": [],
   "source": [
    "import item_base_recommend # P141のサンプルコード Pythonによるアイテムの評価値計算"
   ]
  },
  {
   "cell_type": "code",
   "execution_count": 8,
   "metadata": {
    "collapsed": false
   },
   "outputs": [],
   "source": [
    "# 評価値行列の例\n",
    "# 行がユーザー、列がアイテム\n",
    "R = numpy.array([\n",
    "  [5, 3, 0, 0], # u0のi0の評価は5、u1のi0の評価は3\n",
    "  [4, 0, 4, 1],\n",
    "  [1, 1, 0, 5],\n",
    "  [0, 0, 4, 4],\n",
    "  [0, 1, 5, 4]\n",
    "])"
   ]
  },
  {
   "cell_type": "code",
   "execution_count": 9,
   "metadata": {
    "collapsed": true
   },
   "outputs": [],
   "source": [
    "# item_base_recommend.py の中\n",
    "\n",
    "from scipy.spatial.distance import cosine\n",
    "\n",
    "def calc_item_score(target_user_index, user_rating_matrix):\n",
    "\n",
    "  \"\"\"\n",
    "  指定したアイテムの評価値を計算する\n",
    "  :param target_user_index:  int: ユーザーのindex\n",
    "  :param user_rating_matrix: numpy.ndarray: ユーザーアイテムの評価値行列\n",
    "  :return:  float: 指定したアイテムの評価値\n",
    "  \"\"\"\n",
    "\n",
    "  target_user_ratings = user_rating_matrix[target_user_index]\n",
    "  item_similarity = numpy.zeros(len(target_user_ratings))\n",
    "  for compare_user_index in range(len(user_rating_matrix)):\n",
    "    compare_user_ratings = user_rating_matrix[compare_user_index]\n",
    "    if compare_user_index == target_user_index:\n",
    "      # 同一ユーザーのときは類似度計算しない\n",
    "      continue\n",
    "\n",
    "    # ユーザーの類似度をコサイン類似度から求める\n",
    "    user_similarity = 1.0 - cosine(target_user_ratings, compare_user_ratings)\n",
    "\n",
    "    # 求めたコサイン類似度をそのユーザーの評価値に乗じて足し合わせる\n",
    "    item_similarity += user_similarity * compare_user_ratings\n",
    "\n",
    "  return item_similarity"
   ]
  },
  {
   "cell_type": "code",
   "execution_count": 10,
   "metadata": {
    "collapsed": false
   },
   "outputs": [
    {
     "data": {
      "text/plain": [
       "array([5, 3, 0, 0])"
      ]
     },
     "execution_count": 10,
     "metadata": {},
     "output_type": "execute_result"
    }
   ],
   "source": [
    "# １行ずつ実行してみる\n",
    "\n",
    "target_user_index = 0\n",
    "user_rating_matrix = R[:]\n",
    "\n",
    "# 指定したアイテムの評価値を取得\n",
    "target_user_ratings = user_rating_matrix[target_user_index]\n",
    "target_user_ratings"
   ]
  },
  {
   "cell_type": "code",
   "execution_count": 11,
   "metadata": {
    "collapsed": false
   },
   "outputs": [
    {
     "data": {
      "text/plain": [
       "array([ 0.,  0.,  0.,  0.])"
      ]
     },
     "execution_count": 11,
     "metadata": {},
     "output_type": "execute_result"
    }
   ],
   "source": [
    "# 長さが4の0ベクトルを作る\n",
    "item_similarity = numpy.zeros(len(target_user_ratings))\n",
    "item_similarity"
   ]
  },
  {
   "cell_type": "code",
   "execution_count": 12,
   "metadata": {
    "collapsed": false
   },
   "outputs": [
    {
     "name": "stdout",
     "output_type": "stream",
     "text": [
      "[ 0.  0.  0.  0.]\n",
      "[ 2.38832574  0.          2.38832574  0.59708143]\n",
      "[ 2.65236508  0.26403934  2.38832574  1.91727816]\n",
      "[ 2.65236508  0.26403934  2.38832574  1.91727816]\n",
      "[ 2.65236508  0.34342776  2.78526783  2.23483183]\n"
     ]
    }
   ],
   "source": [
    "# 評価値行列をループさせて類似度を求める\n",
    "for compare_user_index in range(len(user_rating_matrix)):\n",
    "    compare_user_ratings = user_rating_matrix[compare_user_index]\n",
    "    if compare_user_index == target_user_index:\n",
    "      # 同一ユーザーのときは類似度計算しない\n",
    "      print(item_similarity)\n",
    "      continue\n",
    "\n",
    "    # ユーザーの類似度をコサイン距離（コサイン類似度）から求める\n",
    "    # 式でいうsim_{i,j}のところですかね\n",
    "    # target_user_ratings 指定したユーザーの評価値\n",
    "    # compare_user_ratings 他ユーザーの評価値\n",
    "    user_similarity = 1.0 - cosine(target_user_ratings, compare_user_ratings)\n",
    "    \n",
    "    '''\n",
    "    どうして１を引くのか。ソースみたらこんなだった。\n",
    "        u = _validate_vector(u) # u => target_user_ratings\n",
    "        v = _validate_vector(v) # v => compare_user_ratings\n",
    "        dist = 1.0 - np.dot(u, v) / (norm(u) * norm(v))\n",
    "        return dist\n",
    "    \n",
    "    np.dot(u, v) / (norm(u) * norm(v)) <-この式の結果が1に近いなら類似度が近い\n",
    "    なので、cosine()の結果が0に近いほど類似度が高い。\n",
    "    これを値が大きいほうに変えるため、結果で１を引けば良い（ややこしい！）\n",
    "    '''\n",
    "\n",
    "    # 求めたコサイン類似度をそのユーザーの評価値に乗じて足し合わせる\n",
    "    # Σのところじゃないかなー。ですよねー？（・ω・）\n",
    "    item_similarity += user_similarity * compare_user_ratings\n",
    "    print(item_similarity)"
   ]
  },
  {
   "cell_type": "markdown",
   "metadata": {},
   "source": [
    "さっきの式と照らし合わせると\n",
    "\n",
    "\n",
    "##### $\\hat{r_{i,k}} = \\sum^N_{i=0}sim_{i,j} \\cdot r_{j,k}$\n",
    "\n",
    "* $sim_{i,j}$ が `user_similarity = 1.0 - cosine(target_user_ratings, compare_user_ratings)`\n",
    "* $sim_{i,j} \\cdot r_{j,k}$ が `user_similarity * compare_user_ratings`\n",
    "* $\\sum^N_{i=0}$ が、`item_similarity +=`\n",
    "\n",
    "\n",
    "わかったかも（^ω^ 三 ^ω^)"
   ]
  },
  {
   "cell_type": "code",
   "execution_count": 13,
   "metadata": {
    "collapsed": false
   },
   "outputs": [
    {
     "data": {
      "text/plain": [
       "array([ 2.65236508,  0.34342776,  2.78526783,  2.23483183])"
      ]
     },
     "execution_count": 13,
     "metadata": {},
     "output_type": "execute_result"
    }
   ],
   "source": [
    "# 結果\n",
    "item_similarity"
   ]
  },
  {
   "cell_type": "markdown",
   "metadata": {},
   "source": [
    "・・・（・ω・？\n",
    "\n",
    "**俺は何を求めていたんだろ...？**"
   ]
  },
  {
   "cell_type": "markdown",
   "metadata": {},
   "source": [
    "R[0]のユーザーの評価はそれぞれv1 = 5、v2 = 3、v3 = 0、v4 = 0 でした。\n",
    "\n",
    "つまり本にもあるように、3、４番めのアイテムは評価されていないけど他ユーザーと類似値を求めて予測した。0ではなくなった。\n",
    "\n",
    "なので、item_similarityの値の中の結果を使ってユーザーに何かしら推薦すれば良い（ってことでいいのかしらー！（」^ω^）」＜合ってるー？）"
   ]
  },
  {
   "cell_type": "code",
   "execution_count": 14,
   "metadata": {
    "collapsed": false
   },
   "outputs": [
    {
     "name": "stderr",
     "output_type": "stream",
     "text": [
      "/Users/kazumatamaki/.pyenv/versions/anaconda3-2.3.0/lib/python3.4/site-packages/matplotlib/font_manager.py:1282: UserWarning: findfont: Font family ['IPAexGothic'] not found. Falling back to Bitstream Vera Sans\n",
      "  (prop.get_family(), self.defaultFamily[fontext]))\n"
     ]
    },
    {
     "data": {
      "image/png": "[encoded data removed]",
      "text/plain": [
       "<matplotlib.figure.Figure at 0x10968a898>"
      ]
     },
     "metadata": {},
     "output_type": "display_data"
    }
   ],
   "source": [
    "# グラフにしてみた\n",
    "x = [1, 2, 3, 4]\n",
    "y = []\n",
    "for i in range(1,5):\n",
    "    y.append(1.0 - cosine(R[0], R[i]))\n",
    "plt.ylim(0,1)\n",
    "plt.xticks(x, ['1', '2', '3', '4']) \n",
    "plt.bar(x, y, align = 'center', width=0.5)\n",
    "plt.show()"
   ]
  },
  {
   "cell_type": "markdown",
   "metadata": {},
   "source": [
    "1,2,4の順でユーザーから強く影響を受けているって認識でいい感じだね（多分）\n",
    "\n",
    "3のユーザーは0と全く違う商品を買っているので類似度が全くないというわけですな。"
   ]
  },
  {
   "cell_type": "markdown",
   "metadata": {},
   "source": [
    "まだ腑に落ちなかったのでぐぐってみたらところ最高のgifアニメーションが！\n",
    "\n",
    "イメージしやすい。やっぱり評価されていないところを他ユーザーのデータを使って予測するってのが正しい使い方なんだろうかね。\n",
    "\n",
    "<img src=\"http://upload.wikimedia.org/wikipedia/commons/5/52/Collaborative_filtering.gif\">"
   ]
  },
  {
   "cell_type": "markdown",
   "metadata": {
    "collapsed": true
   },
   "source": [
    "gensimが入っていなかったのでインストール（コンソールからpipを叩く）\n",
    "\n",
    "`$ pip install gensim`"
   ]
  },
  {
   "cell_type": "code",
   "execution_count": 15,
   "metadata": {
    "collapsed": true
   },
   "outputs": [],
   "source": [
    "import content_base_recommend as cbr # P142のサンプルコード 内容ベースフィルタリングのサンプル また、長いので省略"
   ]
  },
  {
   "cell_type": "code",
   "execution_count": 16,
   "metadata": {
    "collapsed": false
   },
   "outputs": [
    {
     "name": "stderr",
     "output_type": "stream",
     "text": [
      "WARNING:gensim.similarities.docsim:scanning corpus to determine the number of features (consider setting `num_features` explicitly)\n"
     ]
    }
   ],
   "source": [
    "# 映画のサンプルデータ\n",
    "# 多分１次元が映画で２次元がその映画に出演する俳優ってことでいいのかな？\n",
    "movies_data = [\n",
    "  ['actor1', 'actor2', 'actor3'],\n",
    "  ['actor3', 'actor5', 'actor7'],\n",
    "  ['actor4', 'actor5', 'actor9'],\n",
    "  ['actor1', 'actor3', 'actor6'],\n",
    "  ['actor2', 'actor5', 'actor7'],\n",
    "  ['actor1', 'actor4', 'actor6'],\n",
    "  ['actor3', 'actor5', 'actor8'],\n",
    "  ['actor5', 'actor6', 'actor7'],\n",
    "  ['actor1', 'actor7', 'actor9'],\n",
    "  ['actor2', 'actor6', 'actor8'],\n",
    "]\n",
    "\n",
    "# ユーザーのプロファイル\n",
    "# 好きな映画俳優を３つ選べというようなアンケートに答えたような想定\n",
    "\n",
    "user = ['actor3', 'actor5', 'actor9']\n",
    "\n",
    "# 実行サンプル\n",
    "# 好きな映画俳優から「お前はこれが好きなんだろ？」みたいにマッチング度を出す\n",
    "dictionary, similarityMatrix = cbr.create_similarity_matrix(movies_data, movies_data)\n",
    "similarity = cbr.calc_similarity(dictionary, similarityMatrix, user)"
   ]
  },
  {
   "cell_type": "code",
   "execution_count": 17,
   "metadata": {
    "collapsed": false
   },
   "outputs": [
    {
     "data": {
      "text/plain": [
       "[(0, 0.29908097),\n",
       " (1, 0.63230097),\n",
       " (2, 0.55873668),\n",
       " (3, 0.33333331),\n",
       " (4, 0.2404678),\n",
       " (5, 0.0),\n",
       " (6, 0.46990144),\n",
       " (7, 0.2723172),\n",
       " (8, 0.44970399),\n",
       " (9, 0.0)]"
      ]
     },
     "execution_count": 17,
     "metadata": {},
     "output_type": "execute_result"
    }
   ],
   "source": [
    "similarity"
   ]
  },
  {
   "cell_type": "code",
   "execution_count": 18,
   "metadata": {
    "collapsed": false
   },
   "outputs": [],
   "source": [
    "# なんどもタイプするの面倒なので関数化（読みやすさ無視。動けばいいのだよ。動けば！）\n",
    "def cbr_exec(movie_data, user_data):\n",
    "    import content_base_recommend as cbr\n",
    "    dictionary, similarityMatrix = cbr.create_similarity_matrix(movie_data, movie_data)\n",
    "    return cbr.calc_similarity(dictionary, similarityMatrix, user_data)\n",
    "\n",
    "# データととあるユーザーの結果を照らしあわせて出力\n",
    "def my_printer(movies_data, user_data, similarity, debug):\n",
    "    def is_match(actors):\n",
    "        user_favorite_actors =  set(user_data)\n",
    "        target_set = set(actors)\n",
    "        return len(list(user_favorite_actors & target_set)) # set()にすると論理積でマッチした要素が返ってくる。便利！\n",
    "\n",
    "    for i, j in zip(movies_data, similarity):\n",
    "        print_str = '好きな俳優が' + str(is_match(i)) + '人出演:\\t'\n",
    "        if debug:\n",
    "            print_str =   print_str + str(i) + ':' + str(j)\n",
    "        else:\n",
    "            print_str = print_str  + str(j)\n",
    "        print(print_str)\n",
    "\n",
    "        "
   ]
  },
  {
   "cell_type": "code",
   "execution_count": 19,
   "metadata": {
    "collapsed": false
   },
   "outputs": [
    {
     "name": "stderr",
     "output_type": "stream",
     "text": [
      "WARNING:gensim.similarities.docsim:scanning corpus to determine the number of features (consider setting `num_features` explicitly)\n"
     ]
    }
   ],
   "source": [
    "# 好きな三人が出演している映画だったら？\n",
    "# １つは全員、もうひとつは適当にデータをセットして内容ベースフィルタリング\n",
    "test_movies_data = [['actor3', 'actor5', 'actor9'],['actor4', 'actor5', 'actor9']]\n",
    "simularity = cbr_exec(test_movies_data, user)"
   ]
  },
  {
   "cell_type": "code",
   "execution_count": 20,
   "metadata": {
    "collapsed": false
   },
   "outputs": [
    {
     "name": "stdout",
     "output_type": "stream",
     "text": [
      "好きな俳優が3人出演:\t['actor3', 'actor5', 'actor9']:(0, 0.29908097)\n",
      "好きな俳優が2人出演:\t['actor4', 'actor5', 'actor9']:(1, 0.63230097)\n"
     ]
    }
   ],
   "source": [
    "# なんか予想と違う？？？\n",
    "my_printer(test_movies_data, user, similarity, True)"
   ]
  },
  {
   "cell_type": "code",
   "execution_count": 21,
   "metadata": {
    "collapsed": false
   },
   "outputs": [
    {
     "data": {
      "text/plain": [
       "[['actor1', 'actor2', 'actor3'],\n",
       " ['actor3', 'actor5', 'actor7'],\n",
       " ['actor4', 'actor5', 'actor9'],\n",
       " ['actor1', 'actor3', 'actor6'],\n",
       " ['actor2', 'actor5', 'actor7'],\n",
       " ['actor1', 'actor4', 'actor6'],\n",
       " ['actor3', 'actor5', 'actor8'],\n",
       " ['actor5', 'actor6', 'actor7'],\n",
       " ['actor1', 'actor7', 'actor9'],\n",
       " ['actor2', 'actor6', 'actor8'],\n",
       " ['actor3', 'actor5', 'actor9']]"
      ]
     },
     "execution_count": 21,
     "metadata": {},
     "output_type": "execute_result"
    }
   ],
   "source": [
    "# 元のサンプルデータに追加するかたちでもっかい実行\n",
    "movies_data2 = movies_data[:]\n",
    "movies_data2.append(user)\n",
    "movies_data2"
   ]
  },
  {
   "cell_type": "code",
   "execution_count": 22,
   "metadata": {
    "collapsed": false
   },
   "outputs": [
    {
     "name": "stderr",
     "output_type": "stream",
     "text": [
      "WARNING:gensim.similarities.docsim:scanning corpus to determine the number of features (consider setting `num_features` explicitly)\n"
     ]
    },
    {
     "name": "stdout",
     "output_type": "stream",
     "text": [
      "好きな俳優が1人出演:\t(0, 0.24933942)\n",
      "好きな俳優が2人出演:\t(1, 0.5675832)\n",
      "好きな俳優が2人出演:\t(2, 0.49387205)\n",
      "好きな俳優が1人出演:\t(3, 0.27867445)\n",
      "好きな俳優が1人出演:\t(4, 0.19944051)\n",
      "好きな俳優が0人出演:\t(5, 0.0)\n",
      "好きな俳優が2人出演:\t(6, 0.4079625)\n",
      "好きな俳優が1人出演:\t(7, 0.22523406)\n",
      "好きな俳優が1人出演:\t(8, 0.38815832)\n",
      "好きな俳優が0人出演:\t(9, 0.0)\n",
      "好きな俳優が3人出演:\t(10, 0.95055318)\n"
     ]
    }
   ],
   "source": [
    "# おっ（^ω^　ええんじゃないでしょうか。\n",
    "# いっぱいデータを入れればいいんのかな？\n",
    "simularity = cbr_exec(movies_data2, user)\n",
    "my_printer(movies_data2, user, simularity, False)"
   ]
  },
  {
   "cell_type": "code",
   "execution_count": 23,
   "metadata": {
    "collapsed": true
   },
   "outputs": [],
   "source": [
    "# とは言ってもactor + 数字だけじゃ面白く無いので、当然こういう発想は生まれる\n",
    "\n",
    "my_movies_data = [\n",
    "    ['デイヴ・ワスカバジ', 'メアリー・ワスカバジ', 'エドワード・ワスカバジ'], # 恐怖！キノコ男\n",
    "    ['ロン・パリロ,', 'ブランディ・リン・コポック', 'ケビン・マッコーリー'],   # 肉喰植物 キラーツリー\n",
    "    ['ランス・ヘンリクセン', 'スティーヴ・マラチャック', 'リッキー・ポール・ゴルディン'], # 殺人魚フライングキラー\n",
    "    ['ランス・ヘンリクセン','シガニー・ウィーバー','ジェイ・ベネディクト'], # エイリアン２\n",
    "    ['ブライス・ダラス・ハワード','シガニー・ウィーバー','ホアキン・フェニックス'], # ヴィレッジ\n",
    "    ['ホアキン・フェニックス','ラッセル・クロウ','コニー・ニールセン'], # グラディエーター\n",
    "    ['マット・マッコイ' , 'ランス・ヘンリクセン' , 'ジェフリー・コムズ'], # ケイブフィアー\n",
    "    ['ランス・ヘンリクセン','コリン・サーモン','トミー・フラナガン'], # エイリアンvsプレデター\n",
    "]\n",
    "\n",
    "# そして好きな俳優はこちら（てーげー）\n",
    "my_user = [\n",
    "    'ランス・ヘンリクセン',\n",
    "    'シガニー・ウィーバー',\n",
    "    'ホアキン・フェニックス'\n",
    "]"
   ]
  },
  {
   "cell_type": "code",
   "execution_count": 24,
   "metadata": {
    "collapsed": false
   },
   "outputs": [
    {
     "name": "stderr",
     "output_type": "stream",
     "text": [
      "WARNING:gensim.similarities.docsim:scanning corpus to determine the number of features (consider setting `num_features` explicitly)\n"
     ]
    },
    {
     "name": "stdout",
     "output_type": "stream",
     "text": [
      "好きな俳優が0人出演:\t(0, 0.0)\n",
      "好きな俳優が0人出演:\t(1, 0.0)\n",
      "好きな俳優が1人出演:\t(2, 0.13245323)\n",
      "好きな俳優が2人出演:\t(3, 0.46291003)\n",
      "好きな俳優が2人出演:\t(4, 0.560112)\n",
      "好きな俳優が1人出演:\t(5, 0.24618298)\n",
      "好きな俳優が1人出演:\t(6, 0.13245323)\n",
      "好きな俳優が1人出演:\t(7, 0.13245323)\n"
     ]
    }
   ],
   "source": [
    "# 日本語（マルチバイト）でもいけた！\n",
    "simularity = cbr_exec(my_movies_data, my_user)\n",
    "my_printer(my_movies_data, my_user, simularity, False)"
   ]
  },
  {
   "cell_type": "code",
   "execution_count": 25,
   "metadata": {
    "collapsed": false
   },
   "outputs": [],
   "source": [
    "t = numpy.array(simularity)\n",
    "y = t[:, 1]"
   ]
  },
  {
   "cell_type": "code",
   "execution_count": 26,
   "metadata": {
    "collapsed": false
   },
   "outputs": [
    {
     "data": {
      "image/png": "[encoded data removed]",
      "text/plain": [
       "<matplotlib.figure.Figure at 0x10a274cf8>"
      ]
     },
     "metadata": {},
     "output_type": "display_data"
    }
   ],
   "source": [
    "# グラフにしてみる\n",
    "\n",
    "x = numpy.arange(8)\n",
    "plt.ylim(0,1)\n",
    "plt.xticks(x, ['恐怖！キノコ男', '肉喰植物 キラーツリー', '殺人魚フライングキラー', 'エイリアン２', 'ヴィレッジ', 'グラディエーター', 'ケイブフィアー', 'エイリアンvsプレデター']) \n",
    "plt.bar(x, y, align = 'center', width=0.5)\n",
    "plt.show()"
   ]
  },
  {
   "cell_type": "code",
   "execution_count": 27,
   "metadata": {
    "collapsed": true
   },
   "outputs": [],
   "source": [
    "# 数を増やしてみる\n",
    "my_movies_data = [\n",
    "    ['デイヴ・ワスカバジ', 'メアリー・ワスカバジ', 'エドワード・ワスカバジ', 'ロレッタ・ワスカバジ'], # 恐怖！キノコ男\n",
    "    ['ロン・パリロ,', 'ブランディ・リン・コポック', 'ケビン・マッコーリー', 'ブライアン・リード'],   # 肉喰植物 キラーツリー\n",
    "    ['ランス・ヘンリクセン', 'スティーヴ・マラチャック', 'リッキー・ポール・ゴルディン', 'アン・ポラック'], # 殺人魚フライングキラー\n",
    "    ['ランス・ヘンリクセン','シガニー・ウィーバー','ジェイ・ベネディクト', 'クリストファー・ヘン'], # エイリアン２\n",
    "    ['ブライス・ダラス・ハワード','シガニー・ウィーバー','ホアキン・フェニックス', 'ウィリアム・ハート'], # ヴィレッジ\n",
    "    ['ホアキン・フェニックス','ラッセル・クロウ','コニー・ニールセン', 'トーマス・アラナ'], # グラディエーター\n",
    "    ['マット・マッコイ' , 'ランス・ヘンリクセン' , 'ジェフリー・コムズ', 'ハーレイ・ジョエル'], # ケイブフィアー\n",
    "    ['ランス・ヘンリクセン','コリン・サーモン','トミー・フラナガン', 'ジョセフ・ライ'], # エイリアンvsプレデター\n",
    "]\n",
    "\n",
    "# そして好きな俳優はさっきと同じ\n",
    "my_user = [\n",
    "    'ランス・ヘンリクセン',\n",
    "    'シガニー・ウィーバー',\n",
    "    'ホアキン・フェニックス'\n",
    "]"
   ]
  },
  {
   "cell_type": "code",
   "execution_count": 28,
   "metadata": {
    "collapsed": false
   },
   "outputs": [
    {
     "name": "stderr",
     "output_type": "stream",
     "text": [
      "WARNING:gensim.similarities.docsim:scanning corpus to determine the number of features (consider setting `num_features` explicitly)\n"
     ]
    },
    {
     "name": "stdout",
     "output_type": "stream",
     "text": [
      "好きな俳優が0人出演:\t(0, 0.0)\n",
      "好きな俳優が0人出演:\t(1, 0.0)\n",
      "好きな俳優が1人出演:\t(2, 0.10910895)\n",
      "好きな俳優が2人出演:\t(3, 0.36115754)\n",
      "好きな俳優が2人出演:\t(4, 0.45291081)\n",
      "好きな俳優が1人出演:\t(5, 0.20739034)\n",
      "好きな俳優が1人出演:\t(6, 0.10910895)\n",
      "好きな俳優が1人出演:\t(7, 0.10910895)\n"
     ]
    }
   ],
   "source": [
    "# 数を増やしてもイケル。でも値は小さくなっている\n",
    "simularity = cbr_exec(my_movies_data, my_user)\n",
    "my_printer(my_movies_data, my_user, simularity, False)"
   ]
  },
  {
   "cell_type": "code",
   "execution_count": 29,
   "metadata": {
    "collapsed": false
   },
   "outputs": [
    {
     "data": {
      "image/png": "[encoded data removed]",
      "text/plain": [
       "<matplotlib.figure.Figure at 0x109bdec50>"
      ]
     },
     "metadata": {},
     "output_type": "display_data"
    }
   ],
   "source": [
    "t = numpy.array(simularity)\n",
    "y = t[:, 1]\n",
    "\n",
    "# グラフにしてみる\n",
    "\n",
    "x = numpy.arange(8)\n",
    "plt.ylim(0,1)\n",
    "plt.xticks(x, ['恐怖！キノコ男', '肉喰植物 キラーツリー', '殺人魚フライングキラー', 'エイリアン２', 'ヴィレッジ', 'グラディエーター', 'ケイブフィアー', 'エイリアンvsプレデター']) \n",
    "plt.bar(x, y, align = 'center', width=0.5)\n",
    "plt.show()"
   ]
  }
 ],
 "metadata": {
  "kernelspec": {
   "display_name": "Python 3",
   "language": "python",
   "name": "python3"
  },
  "language_info": {
   "codemirror_mode": {
    "name": "ipython",
    "version": 3
   },
   "file_extension": ".py",
   "mimetype": "text/x-python",
   "name": "python",
   "nbconvert_exporter": "python",
   "pygments_lexer": "ipython3",
   "version": "3.4.4"
  }
 },
 "nbformat": 4,
 "nbformat_minor": 0
}
