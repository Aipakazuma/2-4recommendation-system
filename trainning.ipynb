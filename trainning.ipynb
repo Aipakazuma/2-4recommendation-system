{
 "cells": [
  {
   "cell_type": "code",
   "execution_count": 9,
   "metadata": {
    "collapsed": true
   },
   "outputs": [],
   "source": [
    "%matplotlib inline\n",
    "import matplotlib.pyplot as plt\n",
    "from scipy.spatial.distance import cosine"
   ]
  },
  {
   "cell_type": "code",
   "execution_count": 2,
   "metadata": {
    "collapsed": true
   },
   "outputs": [],
   "source": [
    "import numpy"
   ]
  },
  {
   "cell_type": "code",
   "execution_count": 8,
   "metadata": {
    "collapsed": false
   },
   "outputs": [
    {
     "data": {
      "text/plain": [
       "array([-0.99999873, -0.96851716, -0.87681789, -0.73060233, -0.53896145,\n",
       "       -0.31381056, -0.06914845,  0.17981298,  0.4175945 ,  0.62941203,\n",
       "        0.80209576,  0.92490906,  0.990216  ,  0.9939561 ,  0.93589682,\n",
       "        0.81964802,  0.65243747,  0.44466152,  0.20923867, -0.03919363,\n",
       "       -0.28518906, -0.51345281, -0.70979256, -0.86200084, -0.96061408,\n",
       "       -0.99950099])"
      ]
     },
     "execution_count": 8,
     "metadata": {},
     "output_type": "execute_result"
    }
   ],
   "source": [
    "x = numpy.arange(-3.14, 3.14, 0.25)\n",
    "sin = numpy.sin(x) # sin(x)の計算\n",
    "cos = numpy.cos(x) # cos(x)の計算"
   ]
  },
  {
   "cell_type": "code",
   "execution_count": 7,
   "metadata": {
    "collapsed": false
   },
   "outputs": [
    {
     "data": {
      "image/png": "[encoded data removed]",
      "text/plain": [
       "<matplotlib.figure.Figure at 0x1092ae588>"
      ]
     },
     "metadata": {},
     "output_type": "display_data"
    }
   ],
   "source": [
    "plt.plot(x, sin,\"-o\",lw=2,alpha=0.7,label=\"sin(x)\")\n",
    "plt.plot(x, cos,\"-o\",lw=2,alpha=0.7,label=\"cos(x)\")\n",
    "fn = \"Times New Roman\"                      # フォント\n",
    "plt.tick_params(labelsize=15)               # 軸目盛のフォントサイズ\n",
    "plt.xlabel(\"$x$\", fontsize=30, fontname=fn) # x軸のラベル\n",
    "plt.ylabel(\"$y$\", fontsize=30, fontname=fn) # y軸のラベル\n",
    "plt.xlim([-4, 4])                           # x軸の範囲\n",
    "plt.ylim([-4, 4])                           # y軸の範囲\n",
    "plt.grid()                                  # グリッドの表示\n",
    "plt.legend(fontsize=13)                     # 凡例の表示\n",
    "plt.show()    "
   ]
  },
  {
   "cell_type": "code",
   "execution_count": 10,
   "metadata": {
    "collapsed": false
   },
   "outputs": [
    {
     "data": {
      "text/plain": [
       "1.1102230246251565e-16"
      ]
     },
     "execution_count": 10,
     "metadata": {},
     "output_type": "execute_result"
    }
   ],
   "source": [
    "cosine(x, x)"
   ]
  },
  {
   "cell_type": "code",
   "execution_count": null,
   "metadata": {
    "collapsed": true
   },
   "outputs": [],
   "source": []
  }
 ],
 "metadata": {
  "kernelspec": {
   "display_name": "Python 3",
   "language": "python",
   "name": "python3"
  },
  "language_info": {
   "codemirror_mode": {
    "name": "ipython",
    "version": 3
   },
   "file_extension": ".py",
   "mimetype": "text/x-python",
   "name": "python",
   "nbconvert_exporter": "python",
   "pygments_lexer": "ipython3",
   "version": "3.4.4"
  }
 },
 "nbformat": 4,
 "nbformat_minor": 0
}
